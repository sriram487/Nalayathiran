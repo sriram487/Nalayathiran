{
 "cells": [
  {
   "cell_type": "code",
   "execution_count": 2,
   "id": "02cafb56",
   "metadata": {},
   "outputs": [],
   "source": [
    "import tensorflow as tf\n",
    "from keras.preprocessing.image import ImageDataGenerator\n",
    "import numpy as np"
   ]
  },
  {
   "cell_type": "code",
   "execution_count": 4,
   "id": "92cc1eea",
   "metadata": {},
   "outputs": [
    {
     "name": "stdout",
     "output_type": "stream",
     "text": [
      "Found 742 images belonging to 4 classes.\n"
     ]
    }
   ],
   "source": [
    "train_datagen = ImageDataGenerator(\n",
    "        rescale=1./255,\n",
    "        shear_range=0.2,\n",
    "        zoom_range=0.2,\n",
    "        horizontal_flip=True)\n",
    "train_generator = train_datagen.flow_from_directory(\n",
    "        r\"C:\\Users\\paramesh reddy\\Desktop\\Nalayathiran_Project\\dataset\\train_set\",\n",
    "        target_size=(64, 64),\n",
    "        batch_size=32,\n",
    "        class_mode='categorical')"
   ]
  },
  {
   "cell_type": "code",
   "execution_count": 6,
   "id": "69e95aa7",
   "metadata": {},
   "outputs": [
    {
     "name": "stdout",
     "output_type": "stream",
     "text": [
      "Found 198 images belonging to 4 classes.\n"
     ]
    }
   ],
   "source": [
    "# loading testing data\n",
    "test_datagen = ImageDataGenerator(rescale=1./255)\n",
    "test_generator = train_datagen.flow_from_directory(\n",
    "        r\"C:\\Users\\paramesh reddy\\Desktop\\Nalayathiran_Project\\dataset\\test_set\",\n",
    "        target_size=(64, 64),\n",
    "        batch_size=32,\n",
    "        class_mode='categorical')"
   ]
  },
  {
   "cell_type": "code",
   "execution_count": 9,
   "id": "91af9a6e",
   "metadata": {},
   "outputs": [
    {
     "name": "stdout",
     "output_type": "stream",
     "text": [
      "Epoch 1/30\n",
      "24/24 [==============================] - 25s 1s/step - loss: 1.3041 - accuracy: 0.3908 - val_loss: 1.3298 - val_accuracy: 0.4293\n",
      "Epoch 2/30\n",
      "24/24 [==============================] - 20s 822ms/step - loss: 1.0768 - accuracy: 0.5364 - val_loss: 1.0830 - val_accuracy: 0.5354\n",
      "Epoch 3/30\n",
      "24/24 [==============================] - 19s 819ms/step - loss: 0.9261 - accuracy: 0.5970 - val_loss: 0.9214 - val_accuracy: 0.6061\n",
      "Epoch 4/30\n",
      "24/24 [==============================] - 19s 802ms/step - loss: 0.8415 - accuracy: 0.6253 - val_loss: 0.8560 - val_accuracy: 0.6263\n",
      "Epoch 5/30\n",
      "24/24 [==============================] - 19s 819ms/step - loss: 0.7559 - accuracy: 0.6644 - val_loss: 1.1704 - val_accuracy: 0.5152\n",
      "Epoch 6/30\n",
      "24/24 [==============================] - 19s 793ms/step - loss: 0.7585 - accuracy: 0.6860 - val_loss: 0.8781 - val_accuracy: 0.6919\n",
      "Epoch 7/30\n",
      "24/24 [==============================] - 20s 833ms/step - loss: 0.6502 - accuracy: 0.7399 - val_loss: 0.7239 - val_accuracy: 0.6970\n",
      "Epoch 8/30\n",
      "24/24 [==============================] - 20s 837ms/step - loss: 0.5797 - accuracy: 0.7736 - val_loss: 0.7343 - val_accuracy: 0.7323\n",
      "Epoch 9/30\n",
      "24/24 [==============================] - 19s 806ms/step - loss: 0.5644 - accuracy: 0.7763 - val_loss: 0.6387 - val_accuracy: 0.7879\n",
      "Epoch 10/30\n",
      "24/24 [==============================] - 20s 812ms/step - loss: 0.5295 - accuracy: 0.8208 - val_loss: 0.6530 - val_accuracy: 0.7626\n",
      "Epoch 11/30\n",
      "24/24 [==============================] - 20s 814ms/step - loss: 0.5662 - accuracy: 0.7951 - val_loss: 0.7884 - val_accuracy: 0.6667\n",
      "Epoch 12/30\n",
      "24/24 [==============================] - 20s 827ms/step - loss: 0.5139 - accuracy: 0.8019 - val_loss: 0.7041 - val_accuracy: 0.7323\n",
      "Epoch 13/30\n",
      "24/24 [==============================] - 19s 797ms/step - loss: 0.4592 - accuracy: 0.8248 - val_loss: 0.6230 - val_accuracy: 0.7727\n",
      "Epoch 14/30\n",
      "24/24 [==============================] - 19s 811ms/step - loss: 0.4566 - accuracy: 0.8302 - val_loss: 0.6911 - val_accuracy: 0.7525\n",
      "Epoch 15/30\n",
      "24/24 [==============================] - 19s 804ms/step - loss: 0.4354 - accuracy: 0.8302 - val_loss: 0.6089 - val_accuracy: 0.8131\n",
      "Epoch 16/30\n",
      "24/24 [==============================] - 19s 826ms/step - loss: 0.4350 - accuracy: 0.8315 - val_loss: 0.7251 - val_accuracy: 0.7222\n",
      "Epoch 17/30\n",
      "24/24 [==============================] - 19s 796ms/step - loss: 0.4319 - accuracy: 0.8383 - val_loss: 0.7889 - val_accuracy: 0.7071\n",
      "Epoch 18/30\n",
      "24/24 [==============================] - 19s 822ms/step - loss: 0.4408 - accuracy: 0.8356 - val_loss: 0.5894 - val_accuracy: 0.7727\n",
      "Epoch 19/30\n",
      "24/24 [==============================] - 21s 867ms/step - loss: 0.4167 - accuracy: 0.8450 - val_loss: 0.8943 - val_accuracy: 0.6768\n",
      "Epoch 20/30\n",
      "24/24 [==============================] - 20s 864ms/step - loss: 0.3409 - accuracy: 0.8787 - val_loss: 0.5974 - val_accuracy: 0.7980\n",
      "Epoch 21/30\n",
      "24/24 [==============================] - 20s 824ms/step - loss: 0.3298 - accuracy: 0.8827 - val_loss: 0.6036 - val_accuracy: 0.8182\n",
      "Epoch 22/30\n",
      "24/24 [==============================] - 19s 805ms/step - loss: 0.3247 - accuracy: 0.8625 - val_loss: 0.6644 - val_accuracy: 0.7727\n",
      "Epoch 23/30\n",
      "24/24 [==============================] - 19s 797ms/step - loss: 0.2895 - accuracy: 0.8989 - val_loss: 0.5952 - val_accuracy: 0.8030\n",
      "Epoch 24/30\n",
      "24/24 [==============================] - 19s 786ms/step - loss: 0.2820 - accuracy: 0.8895 - val_loss: 0.6069 - val_accuracy: 0.8283\n",
      "Epoch 25/30\n",
      "24/24 [==============================] - 19s 806ms/step - loss: 0.3079 - accuracy: 0.8881 - val_loss: 0.5786 - val_accuracy: 0.8283\n",
      "Epoch 26/30\n",
      "24/24 [==============================] - 19s 799ms/step - loss: 0.2878 - accuracy: 0.9003 - val_loss: 0.6894 - val_accuracy: 0.7677\n",
      "Epoch 27/30\n",
      "24/24 [==============================] - 19s 775ms/step - loss: 0.2361 - accuracy: 0.9097 - val_loss: 0.7713 - val_accuracy: 0.8030\n",
      "Epoch 28/30\n",
      "24/24 [==============================] - 19s 809ms/step - loss: 0.2843 - accuracy: 0.8922 - val_loss: 0.6798 - val_accuracy: 0.7778\n",
      "Epoch 29/30\n",
      "24/24 [==============================] - 19s 810ms/step - loss: 0.2643 - accuracy: 0.9111 - val_loss: 0.6869 - val_accuracy: 0.8131\n",
      "Epoch 30/30\n",
      "24/24 [==============================] - 19s 807ms/step - loss: 0.2196 - accuracy: 0.9178 - val_loss: 0.6480 - val_accuracy: 0.8283\n"
     ]
    },
    {
     "data": {
      "text/plain": [
       "<keras.callbacks.History at 0x146a170d4f0>"
      ]
     },
     "execution_count": 9,
     "metadata": {},
     "output_type": "execute_result"
    }
   ],
   "source": [
    "# initialising sequential model and adding layers to it\n",
    "cnn = tf.keras.models.Sequential()\n",
    "cnn.add(tf.keras.layers.Conv2D(filters=48, kernel_size=3, activation='relu', input_shape=[64, 64, 3]))\n",
    "cnn.add(tf.keras.layers.MaxPool2D(pool_size=2, strides=2))\n",
    "\n",
    "cnn.add(tf.keras.layers.Conv2D(filters=48, kernel_size=3, activation='relu'))\n",
    "cnn.add(tf.keras.layers.MaxPool2D(pool_size=2, strides=2))\n",
    "\n",
    "cnn.add(tf.keras.layers.Conv2D(filters=32, kernel_size=3, activation='relu'))\n",
    "cnn.add(tf.keras.layers.MaxPool2D(pool_size=2, strides=2))\n",
    "\n",
    "cnn.add(tf.keras.layers.Flatten())\n",
    "\n",
    "cnn.add(tf.keras.layers.Dense(128, activation='relu'))\n",
    "cnn.add(tf.keras.layers.Dense(64, activation='relu'))\n",
    "cnn.add(tf.keras.layers.Dense(4, activation='softmax'))\n",
    "\n",
    "# finally compile and train the cnn\n",
    "cnn.compile(optimizer=\"adam\", loss=\"categorical_crossentropy\", metrics=[\"accuracy\"])\n",
    "cnn.fit(x=train_generator, validation_data=test_generator, epochs=30)"
   ]
  },
  {
   "cell_type": "code",
   "execution_count": 8,
   "id": "72e835bb",
   "metadata": {},
   "outputs": [
    {
     "name": "stdout",
     "output_type": "stream",
     "text": [
      "Model: \"sequential\"\n",
      "_________________________________________________________________\n",
      " Layer (type)                Output Shape              Param #   \n",
      "=================================================================\n",
      " conv2d (Conv2D)             (None, 62, 62, 48)        1344      \n",
      "                                                                 \n",
      " max_pooling2d (MaxPooling2D  (None, 31, 31, 48)       0         \n",
      " )                                                               \n",
      "                                                                 \n",
      " conv2d_1 (Conv2D)           (None, 29, 29, 48)        20784     \n",
      "                                                                 \n",
      " max_pooling2d_1 (MaxPooling  (None, 14, 14, 48)       0         \n",
      " 2D)                                                             \n",
      "                                                                 \n",
      " conv2d_2 (Conv2D)           (None, 12, 12, 32)        13856     \n",
      "                                                                 \n",
      " max_pooling2d_2 (MaxPooling  (None, 6, 6, 32)         0         \n",
      " 2D)                                                             \n",
      "                                                                 \n",
      " flatten (Flatten)           (None, 1152)              0         \n",
      "                                                                 \n",
      " dense (Dense)               (None, 128)               147584    \n",
      "                                                                 \n",
      " dense_1 (Dense)             (None, 64)                8256      \n",
      "                                                                 \n",
      " dense_2 (Dense)             (None, 6)                 390       \n",
      "                                                                 \n",
      "=================================================================\n",
      "Total params: 192,214\n",
      "Trainable params: 192,214\n",
      "Non-trainable params: 0\n",
      "_________________________________________________________________\n"
     ]
    }
   ],
   "source": [
    "cnn.summary()"
   ]
  },
  {
   "cell_type": "code",
   "execution_count": 11,
   "id": "cab86deb",
   "metadata": {},
   "outputs": [],
   "source": [
    "probability_model = tf.keras.Sequential([cnn, \n",
    "                                         tf.keras.layers.Softmax()])"
   ]
  },
  {
   "cell_type": "code",
   "execution_count": 65,
   "id": "f5be4181",
   "metadata": {},
   "outputs": [],
   "source": [
    "from PIL import Image\n",
    "\n",
    "img = Image.open(r\"C:\\Users\\paramesh reddy\\Desktop\\Nalayathiran_Project\\Test_data\\download (4).jpg\")\n",
    "img = img.resize((64,64))\n",
    "img = np.array(img)\n",
    "img = img / 255.0\n",
    "img = img.reshape(1,64,64,3)\n"
   ]
  },
  {
   "cell_type": "code",
   "execution_count": 66,
   "id": "0fde200e",
   "metadata": {},
   "outputs": [
    {
     "name": "stdout",
     "output_type": "stream",
     "text": [
      "1/1 [==============================] - 0s 16ms/step\n"
     ]
    }
   ],
   "source": [
    "predictions = probability_model.predict(img)"
   ]
  },
  {
   "cell_type": "code",
   "execution_count": 67,
   "id": "864010a9",
   "metadata": {},
   "outputs": [],
   "source": [
    "pred = np.argmax(predictions, axis = 1)"
   ]
  },
  {
   "cell_type": "code",
   "execution_count": 68,
   "id": "7d693a44",
   "metadata": {},
   "outputs": [],
   "source": [
    "classes = [\"Cyclone\", \"Earthquake\", \"Flood\", \"wildfire\"]"
   ]
  },
  {
   "cell_type": "code",
   "execution_count": 69,
   "id": "36f4dab1",
   "metadata": {},
   "outputs": [
    {
     "name": "stdout",
     "output_type": "stream",
     "text": [
      "Flood\n"
     ]
    }
   ],
   "source": [
    "print(classes[pred[0]])"
   ]
  },
  {
   "cell_type": "code",
   "execution_count": 64,
   "id": "e9cae9dc",
   "metadata": {},
   "outputs": [],
   "source": [
    "cnn.save(\"Disaster_Classification_model.h5\")"
   ]
  },
  {
   "cell_type": "code",
   "execution_count": null,
   "id": "c6d05dea",
   "metadata": {},
   "outputs": [],
   "source": []
  }
 ],
 "metadata": {
  "kernelspec": {
   "display_name": "Python 3 (ipykernel)",
   "language": "python",
   "name": "python3"
  },
  "language_info": {
   "codemirror_mode": {
    "name": "ipython",
    "version": 3
   },
   "file_extension": ".py",
   "mimetype": "text/x-python",
   "name": "python",
   "nbconvert_exporter": "python",
   "pygments_lexer": "ipython3",
   "version": "3.9.13"
  }
 },
 "nbformat": 4,
 "nbformat_minor": 5
}
